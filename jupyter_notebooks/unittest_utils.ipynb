{
 "cells": [
  {
   "cell_type": "code",
   "execution_count": 7,
   "metadata": {},
   "outputs": [],
   "source": [
    "import sys\n",
    "\n",
    "sys.path.append('/Users/sebastian/Documents/Python/Personal Projects/public_repos/general_utils/src')"
   ]
  },
  {
   "cell_type": "code",
   "execution_count": 2,
   "metadata": {},
   "outputs": [],
   "source": [
    "from datetime import datetime"
   ]
  },
  {
   "cell_type": "code",
   "execution_count": 3,
   "metadata": {},
   "outputs": [
    {
     "data": {
      "text/plain": [
       "'2022-06-04T12:58:17.364774'"
      ]
     },
     "execution_count": 3,
     "metadata": {},
     "output_type": "execute_result"
    }
   ],
   "source": [
    "datetime.now().isoformat()"
   ]
  },
  {
   "cell_type": "code",
   "execution_count": 4,
   "metadata": {},
   "outputs": [
    {
     "data": {
      "text/plain": [
       "datetime.datetime(2022, 6, 4, 17, 58, 17, 577611)"
      ]
     },
     "execution_count": 4,
     "metadata": {},
     "output_type": "execute_result"
    }
   ],
   "source": [
    "datetime.utcnow()"
   ]
  },
  {
   "cell_type": "code",
   "execution_count": 6,
   "metadata": {},
   "outputs": [
    {
     "data": {
      "text/plain": [
       "'2022-06-04T17'"
      ]
     },
     "execution_count": 6,
     "metadata": {},
     "output_type": "execute_result"
    }
   ],
   "source": [
    "datetime.utcnow().isoformat().partition(\":\")[0]"
   ]
  },
  {
   "cell_type": "code",
   "execution_count": 8,
   "metadata": {},
   "outputs": [],
   "source": [
    "from general_utils import utils"
   ]
  },
  {
   "cell_type": "code",
   "execution_count": 9,
   "metadata": {},
   "outputs": [
    {
     "data": {
      "text/plain": [
       "<Response [200]>"
      ]
     },
     "execution_count": 9,
     "metadata": {},
     "output_type": "execute_result"
    }
   ],
   "source": [
    "utils.send_get_request('https://httpbin.org/get',3,10)"
   ]
  },
  {
   "cell_type": "code",
   "execution_count": 10,
   "metadata": {},
   "outputs": [
    {
     "ename": "Exception",
     "evalue": "API retry attempts exceeded. error: <!DOCTYPE HTML PUBLIC \"-//W3C//DTD HTML 3.2 Final//EN\">\n<title>405 Method Not Allowed</title>\n<h1>Method Not Allowed</h1>\n<p>The method is not allowed for the requested URL.</p>\n",
     "output_type": "error",
     "traceback": [
      "\u001b[0;31m---------------------------------------------------------------------------\u001b[0m",
      "\u001b[0;31mException\u001b[0m                                 Traceback (most recent call last)",
      "\u001b[1;32m/Users/sebastian/Documents/Python/Personal Projects/public_repos/general_utils/jupyter_notebooks/unittest_utils.ipynb Cell 8'\u001b[0m in \u001b[0;36m<cell line: 1>\u001b[0;34m()\u001b[0m\n\u001b[0;32m----> <a href='vscode-notebook-cell:/Users/sebastian/Documents/Python/Personal%20Projects/public_repos/general_utils/jupyter_notebooks/unittest_utils.ipynb#ch0000005?line=0'>1</a>\u001b[0m utils\u001b[39m.\u001b[39;49msend_put_request(\u001b[39m'\u001b[39;49m\u001b[39mhttps://httpbin.org/get\u001b[39;49m\u001b[39m'\u001b[39;49m,\u001b[39m3\u001b[39;49m,\u001b[39m10\u001b[39;49m)\n",
      "File \u001b[0;32m~/Documents/Python/Personal Projects/public_repos/general_utils/src/general_utils/utils.py:336\u001b[0m, in \u001b[0;36msend_put_request\u001b[0;34m(url, max_attempts, timeout, **kargs)\u001b[0m\n\u001b[1;32m    <a href='file:///Users/sebastian/Documents/Python/Personal%20Projects/public_repos/general_utils/src/general_utils/utils.py?line=323'>324</a>\u001b[0m \u001b[39mdef\u001b[39;00m \u001b[39msend_put_request\u001b[39m(url: \u001b[39mstr\u001b[39m, max_attempts: \u001b[39mint\u001b[39m, timeout: \u001b[39mint\u001b[39m, \u001b[39m*\u001b[39m\u001b[39m*\u001b[39mkargs) \u001b[39m-\u001b[39m\u001b[39m>\u001b[39m \u001b[39mdict\u001b[39m:\n\u001b[1;32m    <a href='file:///Users/sebastian/Documents/Python/Personal%20Projects/public_repos/general_utils/src/general_utils/utils.py?line=324'>325</a>\u001b[0m     \u001b[39m\"\"\"Function to perform http put request. If response is not 200, function retries N times specified by argument max_attempts\u001b[39;00m\n\u001b[1;32m    <a href='file:///Users/sebastian/Documents/Python/Personal%20Projects/public_repos/general_utils/src/general_utils/utils.py?line=325'>326</a>\u001b[0m \n\u001b[1;32m    <a href='file:///Users/sebastian/Documents/Python/Personal%20Projects/public_repos/general_utils/src/general_utils/utils.py?line=326'>327</a>\u001b[0m \n\u001b[0;32m   (...)\u001b[0m\n\u001b[1;32m    <a href='file:///Users/sebastian/Documents/Python/Personal%20Projects/public_repos/general_utils/src/general_utils/utils.py?line=333'>334</a>\u001b[0m \u001b[39m        dict\u001b[39;00m\n\u001b[1;32m    <a href='file:///Users/sebastian/Documents/Python/Personal%20Projects/public_repos/general_utils/src/general_utils/utils.py?line=334'>335</a>\u001b[0m \u001b[39m    \"\"\"\u001b[39;00m\n\u001b[0;32m--> <a href='file:///Users/sebastian/Documents/Python/Personal%20Projects/public_repos/general_utils/src/general_utils/utils.py?line=335'>336</a>\u001b[0m     \u001b[39mreturn\u001b[39;00m _http_request(\n\u001b[1;32m    <a href='file:///Users/sebastian/Documents/Python/Personal%20Projects/public_repos/general_utils/src/general_utils/utils.py?line=336'>337</a>\u001b[0m         url, request_function\u001b[39m=\u001b[39;49mput, timeout\u001b[39m=\u001b[39;49mtimeout, max_attempts\u001b[39m=\u001b[39;49mmax_attempts, \u001b[39m*\u001b[39;49m\u001b[39m*\u001b[39;49mkargs\n\u001b[1;32m    <a href='file:///Users/sebastian/Documents/Python/Personal%20Projects/public_repos/general_utils/src/general_utils/utils.py?line=337'>338</a>\u001b[0m     )\n",
      "File \u001b[0;32m~/Documents/Python/Personal Projects/public_repos/general_utils/src/general_utils/utils.py:45\u001b[0m, in \u001b[0;36m_http_request\u001b[0;34m(url, request_function, max_attempts, timeout, **kargs)\u001b[0m\n\u001b[1;32m     <a href='file:///Users/sebastian/Documents/Python/Personal%20Projects/public_repos/general_utils/src/general_utils/utils.py?line=40'>41</a>\u001b[0m \u001b[39m@api_multi_call_decorator\u001b[39m(max_attempts)\n\u001b[1;32m     <a href='file:///Users/sebastian/Documents/Python/Personal%20Projects/public_repos/general_utils/src/general_utils/utils.py?line=41'>42</a>\u001b[0m \u001b[39mdef\u001b[39;00m \u001b[39mget_wrapper\u001b[39m():\n\u001b[1;32m     <a href='file:///Users/sebastian/Documents/Python/Personal%20Projects/public_repos/general_utils/src/general_utils/utils.py?line=42'>43</a>\u001b[0m     \u001b[39mreturn\u001b[39;00m request_function(url, timeout\u001b[39m=\u001b[39mtimeout, \u001b[39m*\u001b[39m\u001b[39m*\u001b[39mkargs)\n\u001b[0;32m---> <a href='file:///Users/sebastian/Documents/Python/Personal%20Projects/public_repos/general_utils/src/general_utils/utils.py?line=44'>45</a>\u001b[0m \u001b[39mreturn\u001b[39;00m get_wrapper()\n",
      "File \u001b[0;32m~/Documents/Python/Personal Projects/public_repos/general_utils/src/general_utils/decorators.py:30\u001b[0m, in \u001b[0;36mapi_multi_call_decorator.<locals>.function_wrapper.<locals>.multi_attempt_api_call\u001b[0;34m(*args, **kwargs)\u001b[0m\n\u001b[1;32m     <a href='file:///Users/sebastian/Documents/Python/Personal%20Projects/public_repos/general_utils/src/general_utils/decorators.py?line=25'>26</a>\u001b[0m \u001b[39mwhile\u001b[39;00m attempt \u001b[39m<\u001b[39m\u001b[39m=\u001b[39m times_to_retry:\n\u001b[1;32m     <a href='file:///Users/sebastian/Documents/Python/Personal%20Projects/public_repos/general_utils/src/general_utils/decorators.py?line=27'>28</a>\u001b[0m     \u001b[39mif\u001b[39;00m attempt \u001b[39m==\u001b[39m times_to_retry:\n\u001b[0;32m---> <a href='file:///Users/sebastian/Documents/Python/Personal%20Projects/public_repos/general_utils/src/general_utils/decorators.py?line=29'>30</a>\u001b[0m         \u001b[39mraise\u001b[39;00m \u001b[39mException\u001b[39;00m(\n\u001b[1;32m     <a href='file:///Users/sebastian/Documents/Python/Personal%20Projects/public_repos/general_utils/src/general_utils/decorators.py?line=30'>31</a>\u001b[0m             \u001b[39mf\u001b[39m\u001b[39m\"\u001b[39m\u001b[39mAPI retry attempts exceeded. error: \u001b[39m\u001b[39m{\u001b[39;00mresponse\u001b[39m.\u001b[39mtext \u001b[39mif\u001b[39;00m \u001b[39m'\u001b[39m\u001b[39mtext\u001b[39m\u001b[39m'\u001b[39m \u001b[39min\u001b[39;00m \u001b[39mdir\u001b[39m(response) \u001b[39melse\u001b[39;00m \u001b[39m'\u001b[39m\u001b[39mNo info on this error\u001b[39m\u001b[39m'\u001b[39m\u001b[39m}\u001b[39;00m\u001b[39m\"\u001b[39m\n\u001b[1;32m     <a href='file:///Users/sebastian/Documents/Python/Personal%20Projects/public_repos/general_utils/src/general_utils/decorators.py?line=31'>32</a>\u001b[0m         )\n\u001b[1;32m     <a href='file:///Users/sebastian/Documents/Python/Personal%20Projects/public_repos/general_utils/src/general_utils/decorators.py?line=33'>34</a>\u001b[0m     response \u001b[39m=\u001b[39m payload_object(\u001b[39m*\u001b[39margs, \u001b[39m*\u001b[39m\u001b[39m*\u001b[39mkwargs)\n\u001b[1;32m     <a href='file:///Users/sebastian/Documents/Python/Personal%20Projects/public_repos/general_utils/src/general_utils/decorators.py?line=35'>36</a>\u001b[0m     \u001b[39mif\u001b[39;00m \u001b[39m200\u001b[39m \u001b[39m<\u001b[39m\u001b[39m=\u001b[39m response\u001b[39m.\u001b[39mstatus_code \u001b[39m<\u001b[39m \u001b[39m300\u001b[39m:\n",
      "\u001b[0;31mException\u001b[0m: API retry attempts exceeded. error: <!DOCTYPE HTML PUBLIC \"-//W3C//DTD HTML 3.2 Final//EN\">\n<title>405 Method Not Allowed</title>\n<h1>Method Not Allowed</h1>\n<p>The method is not allowed for the requested URL.</p>\n"
     ]
    }
   ],
   "source": [
    "utils.send_put_request('https://httpbin.org/get',3,10)"
   ]
  },
  {
   "cell_type": "code",
   "execution_count": 11,
   "metadata": {},
   "outputs": [
    {
     "data": {
      "text/plain": [
       "<Response [200]>"
      ]
     },
     "execution_count": 11,
     "metadata": {},
     "output_type": "execute_result"
    }
   ],
   "source": [
    "utils.send_put_request('https://httpbin.org/put',3,10)"
   ]
  },
  {
   "cell_type": "code",
   "execution_count": 13,
   "metadata": {},
   "outputs": [],
   "source": [
    "response = utils.send_post_request('https://httpbin.org/post',3,10)"
   ]
  },
  {
   "cell_type": "code",
   "execution_count": 18,
   "metadata": {},
   "outputs": [
    {
     "data": {
      "text/plain": [
       "200"
      ]
     },
     "execution_count": 18,
     "metadata": {},
     "output_type": "execute_result"
    }
   ],
   "source": [
    "response.status_code"
   ]
  },
  {
   "cell_type": "code",
   "execution_count": null,
   "metadata": {},
   "outputs": [],
   "source": []
  },
  {
   "cell_type": "code",
   "execution_count": null,
   "metadata": {},
   "outputs": [],
   "source": []
  }
 ],
 "metadata": {
  "interpreter": {
   "hash": "968fc6b1b96338af7e1abf913e1da710a4a3b299f509a3d0a6efed636c4bd3c0"
  },
  "kernelspec": {
   "display_name": "Python 3.10.4 ('general_utils_venv': venv)",
   "language": "python",
   "name": "python3"
  },
  "language_info": {
   "codemirror_mode": {
    "name": "ipython",
    "version": 3
   },
   "file_extension": ".py",
   "mimetype": "text/x-python",
   "name": "python",
   "nbconvert_exporter": "python",
   "pygments_lexer": "ipython3",
   "version": "3.10.4"
  },
  "orig_nbformat": 4
 },
 "nbformat": 4,
 "nbformat_minor": 2
}
